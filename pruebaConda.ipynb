{
 "cells": [
  {
   "cell_type": "code",
   "id": "initial_id",
   "metadata": {
    "collapsed": true,
    "ExecuteTime": {
     "end_time": "2024-08-29T16:52:04.669567Z",
     "start_time": "2024-08-29T16:52:04.654145Z"
    }
   },
   "source": "import pandas as pd",
   "outputs": [],
   "execution_count": 9
  },
  {
   "metadata": {
    "ExecuteTime": {
     "end_time": "2024-08-29T14:18:52.588146Z",
     "start_time": "2024-08-29T14:18:52.578879Z"
    }
   },
   "cell_type": "code",
   "source": "import numpy as np",
   "id": "b1c1385408775a8d",
   "outputs": [],
   "execution_count": 3
  },
  {
   "metadata": {
    "ExecuteTime": {
     "end_time": "2024-08-29T16:53:59.861811Z",
     "start_time": "2024-08-29T16:53:59.847714Z"
    }
   },
   "cell_type": "code",
   "source": [
    "from sklearn.model_selection import train_test_split\n",
    "from sklearn.preprocessing import  StandardScaler\n",
    "from sklearn.ensemble import BaggingRegressor\n",
    "from sklearn.linear_model import LinearRegression\n",
    "from sklearn.metrics import mean_squared_error"
   ],
   "id": "9050d5f372705870",
   "outputs": [],
   "execution_count": 10
  },
  {
   "metadata": {
    "ExecuteTime": {
     "end_time": "2024-08-29T16:54:01.986751Z",
     "start_time": "2024-08-29T16:54:01.981294Z"
    }
   },
   "cell_type": "code",
   "source": [
    "from sklearn.tree import DecisionTreeClassifier\n",
    "from sklearn.ensemble import AdaBoostRegressor\n",
    "from sklearn.ensemble import  GradientBoostingRegressor"
   ],
   "id": "7bb06c15fc15488e",
   "outputs": [],
   "execution_count": 11
  },
  {
   "metadata": {
    "ExecuteTime": {
     "end_time": "2024-08-29T16:49:55.875277Z",
     "start_time": "2024-08-29T16:49:55.839238Z"
    }
   },
   "cell_type": "code",
   "source": "data = pd.read_csv(\"./Hitters.csv\")",
   "id": "4bbb448200d746c9",
   "outputs": [],
   "execution_count": 6
  },
  {
   "metadata": {
    "ExecuteTime": {
     "end_time": "2024-08-29T16:50:19.916666Z",
     "start_time": "2024-08-29T16:50:19.881587Z"
    }
   },
   "cell_type": "code",
   "source": "data.head()",
   "id": "cad07aab8c0dab1",
   "outputs": [
    {
     "data": {
      "text/plain": [
       "   AtBat  Hits  HmRun  Runs  RBI  Walks  Years  CAtBat  CHits  CHmRun  CRuns  \\\n",
       "0    293    66      1    30   29     14      1     293     66       1     30   \n",
       "1    315    81      7    24   38     39     14    3449    835      69    321   \n",
       "2    479   130     18    66   72     76      3    1624    457      63    224   \n",
       "3    496   141     20    65   78     37     11    5628   1575     225    828   \n",
       "4    321    87     10    39   42     30      2     396    101      12     48   \n",
       "\n",
       "   CRBI  CWalks League Division  PutOuts  Assists  Errors  Salary NewLeague  \n",
       "0    29      14      A        E      446       33      20     NaN         A  \n",
       "1   414     375      N        W      632       43      10   475.0         N  \n",
       "2   266     263      A        W      880       82      14   480.0         A  \n",
       "3   838     354      N        E      200       11       3   500.0         N  \n",
       "4    46      33      N        E      805       40       4    91.5         N  "
      ],
      "text/html": [
       "<div>\n",
       "<style scoped>\n",
       "    .dataframe tbody tr th:only-of-type {\n",
       "        vertical-align: middle;\n",
       "    }\n",
       "\n",
       "    .dataframe tbody tr th {\n",
       "        vertical-align: top;\n",
       "    }\n",
       "\n",
       "    .dataframe thead th {\n",
       "        text-align: right;\n",
       "    }\n",
       "</style>\n",
       "<table border=\"1\" class=\"dataframe\">\n",
       "  <thead>\n",
       "    <tr style=\"text-align: right;\">\n",
       "      <th></th>\n",
       "      <th>AtBat</th>\n",
       "      <th>Hits</th>\n",
       "      <th>HmRun</th>\n",
       "      <th>Runs</th>\n",
       "      <th>RBI</th>\n",
       "      <th>Walks</th>\n",
       "      <th>Years</th>\n",
       "      <th>CAtBat</th>\n",
       "      <th>CHits</th>\n",
       "      <th>CHmRun</th>\n",
       "      <th>CRuns</th>\n",
       "      <th>CRBI</th>\n",
       "      <th>CWalks</th>\n",
       "      <th>League</th>\n",
       "      <th>Division</th>\n",
       "      <th>PutOuts</th>\n",
       "      <th>Assists</th>\n",
       "      <th>Errors</th>\n",
       "      <th>Salary</th>\n",
       "      <th>NewLeague</th>\n",
       "    </tr>\n",
       "  </thead>\n",
       "  <tbody>\n",
       "    <tr>\n",
       "      <th>0</th>\n",
       "      <td>293</td>\n",
       "      <td>66</td>\n",
       "      <td>1</td>\n",
       "      <td>30</td>\n",
       "      <td>29</td>\n",
       "      <td>14</td>\n",
       "      <td>1</td>\n",
       "      <td>293</td>\n",
       "      <td>66</td>\n",
       "      <td>1</td>\n",
       "      <td>30</td>\n",
       "      <td>29</td>\n",
       "      <td>14</td>\n",
       "      <td>A</td>\n",
       "      <td>E</td>\n",
       "      <td>446</td>\n",
       "      <td>33</td>\n",
       "      <td>20</td>\n",
       "      <td>NaN</td>\n",
       "      <td>A</td>\n",
       "    </tr>\n",
       "    <tr>\n",
       "      <th>1</th>\n",
       "      <td>315</td>\n",
       "      <td>81</td>\n",
       "      <td>7</td>\n",
       "      <td>24</td>\n",
       "      <td>38</td>\n",
       "      <td>39</td>\n",
       "      <td>14</td>\n",
       "      <td>3449</td>\n",
       "      <td>835</td>\n",
       "      <td>69</td>\n",
       "      <td>321</td>\n",
       "      <td>414</td>\n",
       "      <td>375</td>\n",
       "      <td>N</td>\n",
       "      <td>W</td>\n",
       "      <td>632</td>\n",
       "      <td>43</td>\n",
       "      <td>10</td>\n",
       "      <td>475.0</td>\n",
       "      <td>N</td>\n",
       "    </tr>\n",
       "    <tr>\n",
       "      <th>2</th>\n",
       "      <td>479</td>\n",
       "      <td>130</td>\n",
       "      <td>18</td>\n",
       "      <td>66</td>\n",
       "      <td>72</td>\n",
       "      <td>76</td>\n",
       "      <td>3</td>\n",
       "      <td>1624</td>\n",
       "      <td>457</td>\n",
       "      <td>63</td>\n",
       "      <td>224</td>\n",
       "      <td>266</td>\n",
       "      <td>263</td>\n",
       "      <td>A</td>\n",
       "      <td>W</td>\n",
       "      <td>880</td>\n",
       "      <td>82</td>\n",
       "      <td>14</td>\n",
       "      <td>480.0</td>\n",
       "      <td>A</td>\n",
       "    </tr>\n",
       "    <tr>\n",
       "      <th>3</th>\n",
       "      <td>496</td>\n",
       "      <td>141</td>\n",
       "      <td>20</td>\n",
       "      <td>65</td>\n",
       "      <td>78</td>\n",
       "      <td>37</td>\n",
       "      <td>11</td>\n",
       "      <td>5628</td>\n",
       "      <td>1575</td>\n",
       "      <td>225</td>\n",
       "      <td>828</td>\n",
       "      <td>838</td>\n",
       "      <td>354</td>\n",
       "      <td>N</td>\n",
       "      <td>E</td>\n",
       "      <td>200</td>\n",
       "      <td>11</td>\n",
       "      <td>3</td>\n",
       "      <td>500.0</td>\n",
       "      <td>N</td>\n",
       "    </tr>\n",
       "    <tr>\n",
       "      <th>4</th>\n",
       "      <td>321</td>\n",
       "      <td>87</td>\n",
       "      <td>10</td>\n",
       "      <td>39</td>\n",
       "      <td>42</td>\n",
       "      <td>30</td>\n",
       "      <td>2</td>\n",
       "      <td>396</td>\n",
       "      <td>101</td>\n",
       "      <td>12</td>\n",
       "      <td>48</td>\n",
       "      <td>46</td>\n",
       "      <td>33</td>\n",
       "      <td>N</td>\n",
       "      <td>E</td>\n",
       "      <td>805</td>\n",
       "      <td>40</td>\n",
       "      <td>4</td>\n",
       "      <td>91.5</td>\n",
       "      <td>N</td>\n",
       "    </tr>\n",
       "  </tbody>\n",
       "</table>\n",
       "</div>"
      ]
     },
     "execution_count": 8,
     "metadata": {},
     "output_type": "execute_result"
    }
   ],
   "execution_count": 8
  },
  {
   "metadata": {
    "ExecuteTime": {
     "end_time": "2024-08-29T16:56:15.018608Z",
     "start_time": "2024-08-29T16:56:14.989499Z"
    }
   },
   "cell_type": "code",
   "source": [
    "data_raw =pd.read_csv(\"./Hitters.csv\")\n",
    "data_complete = data_raw.dropna()\n",
    "print(data_raw.shape)\n",
    "print(data_complete.shape)"
   ],
   "id": "9ab2118ed1cc4aa4",
   "outputs": [
    {
     "name": "stdout",
     "output_type": "stream",
     "text": [
      "(322, 20)\n",
      "(263, 20)\n"
     ]
    }
   ],
   "execution_count": 13
  },
  {
   "metadata": {
    "ExecuteTime": {
     "end_time": "2024-08-29T17:03:42.359534Z",
     "start_time": "2024-08-29T17:03:42.284944Z"
    }
   },
   "cell_type": "code",
   "source": [
    "data_columns=['AtBat', 'Hits', 'HmRun', 'Runs', 'RBI', 'Walks', 'Years',\n",
    "              'CAtBat', 'CHits', 'CHmRun', 'CRuns', 'CRBI', 'CWalks' , 'PutOuts', 'Assists', 'Errors', 'Salary']\n",
    "data=data_complete.loc[:,data_columns]\n",
    "print(data.shape)\n",
    "data.head()"
   ],
   "id": "1c792c027d124aa9",
   "outputs": [
    {
     "name": "stdout",
     "output_type": "stream",
     "text": [
      "(263, 17)\n"
     ]
    },
    {
     "data": {
      "text/plain": [
       "   AtBat  Hits  HmRun  Runs  RBI  Walks  Years  CAtBat  CHits  CHmRun  CRuns  \\\n",
       "1    315    81      7    24   38     39     14    3449    835      69    321   \n",
       "2    479   130     18    66   72     76      3    1624    457      63    224   \n",
       "3    496   141     20    65   78     37     11    5628   1575     225    828   \n",
       "4    321    87     10    39   42     30      2     396    101      12     48   \n",
       "5    594   169      4    74   51     35     11    4408   1133      19    501   \n",
       "\n",
       "   CRBI  CWalks  PutOuts  Assists  Errors  Salary  \n",
       "1   414     375      632       43      10   475.0  \n",
       "2   266     263      880       82      14   480.0  \n",
       "3   838     354      200       11       3   500.0  \n",
       "4    46      33      805       40       4    91.5  \n",
       "5   336     194      282      421      25   750.0  "
      ],
      "text/html": [
       "<div>\n",
       "<style scoped>\n",
       "    .dataframe tbody tr th:only-of-type {\n",
       "        vertical-align: middle;\n",
       "    }\n",
       "\n",
       "    .dataframe tbody tr th {\n",
       "        vertical-align: top;\n",
       "    }\n",
       "\n",
       "    .dataframe thead th {\n",
       "        text-align: right;\n",
       "    }\n",
       "</style>\n",
       "<table border=\"1\" class=\"dataframe\">\n",
       "  <thead>\n",
       "    <tr style=\"text-align: right;\">\n",
       "      <th></th>\n",
       "      <th>AtBat</th>\n",
       "      <th>Hits</th>\n",
       "      <th>HmRun</th>\n",
       "      <th>Runs</th>\n",
       "      <th>RBI</th>\n",
       "      <th>Walks</th>\n",
       "      <th>Years</th>\n",
       "      <th>CAtBat</th>\n",
       "      <th>CHits</th>\n",
       "      <th>CHmRun</th>\n",
       "      <th>CRuns</th>\n",
       "      <th>CRBI</th>\n",
       "      <th>CWalks</th>\n",
       "      <th>PutOuts</th>\n",
       "      <th>Assists</th>\n",
       "      <th>Errors</th>\n",
       "      <th>Salary</th>\n",
       "    </tr>\n",
       "  </thead>\n",
       "  <tbody>\n",
       "    <tr>\n",
       "      <th>1</th>\n",
       "      <td>315</td>\n",
       "      <td>81</td>\n",
       "      <td>7</td>\n",
       "      <td>24</td>\n",
       "      <td>38</td>\n",
       "      <td>39</td>\n",
       "      <td>14</td>\n",
       "      <td>3449</td>\n",
       "      <td>835</td>\n",
       "      <td>69</td>\n",
       "      <td>321</td>\n",
       "      <td>414</td>\n",
       "      <td>375</td>\n",
       "      <td>632</td>\n",
       "      <td>43</td>\n",
       "      <td>10</td>\n",
       "      <td>475.0</td>\n",
       "    </tr>\n",
       "    <tr>\n",
       "      <th>2</th>\n",
       "      <td>479</td>\n",
       "      <td>130</td>\n",
       "      <td>18</td>\n",
       "      <td>66</td>\n",
       "      <td>72</td>\n",
       "      <td>76</td>\n",
       "      <td>3</td>\n",
       "      <td>1624</td>\n",
       "      <td>457</td>\n",
       "      <td>63</td>\n",
       "      <td>224</td>\n",
       "      <td>266</td>\n",
       "      <td>263</td>\n",
       "      <td>880</td>\n",
       "      <td>82</td>\n",
       "      <td>14</td>\n",
       "      <td>480.0</td>\n",
       "    </tr>\n",
       "    <tr>\n",
       "      <th>3</th>\n",
       "      <td>496</td>\n",
       "      <td>141</td>\n",
       "      <td>20</td>\n",
       "      <td>65</td>\n",
       "      <td>78</td>\n",
       "      <td>37</td>\n",
       "      <td>11</td>\n",
       "      <td>5628</td>\n",
       "      <td>1575</td>\n",
       "      <td>225</td>\n",
       "      <td>828</td>\n",
       "      <td>838</td>\n",
       "      <td>354</td>\n",
       "      <td>200</td>\n",
       "      <td>11</td>\n",
       "      <td>3</td>\n",
       "      <td>500.0</td>\n",
       "    </tr>\n",
       "    <tr>\n",
       "      <th>4</th>\n",
       "      <td>321</td>\n",
       "      <td>87</td>\n",
       "      <td>10</td>\n",
       "      <td>39</td>\n",
       "      <td>42</td>\n",
       "      <td>30</td>\n",
       "      <td>2</td>\n",
       "      <td>396</td>\n",
       "      <td>101</td>\n",
       "      <td>12</td>\n",
       "      <td>48</td>\n",
       "      <td>46</td>\n",
       "      <td>33</td>\n",
       "      <td>805</td>\n",
       "      <td>40</td>\n",
       "      <td>4</td>\n",
       "      <td>91.5</td>\n",
       "    </tr>\n",
       "    <tr>\n",
       "      <th>5</th>\n",
       "      <td>594</td>\n",
       "      <td>169</td>\n",
       "      <td>4</td>\n",
       "      <td>74</td>\n",
       "      <td>51</td>\n",
       "      <td>35</td>\n",
       "      <td>11</td>\n",
       "      <td>4408</td>\n",
       "      <td>1133</td>\n",
       "      <td>19</td>\n",
       "      <td>501</td>\n",
       "      <td>336</td>\n",
       "      <td>194</td>\n",
       "      <td>282</td>\n",
       "      <td>421</td>\n",
       "      <td>25</td>\n",
       "      <td>750.0</td>\n",
       "    </tr>\n",
       "  </tbody>\n",
       "</table>\n",
       "</div>"
      ]
     },
     "execution_count": 15,
     "metadata": {},
     "output_type": "execute_result"
    }
   ],
   "execution_count": 15
  },
  {
   "metadata": {
    "ExecuteTime": {
     "end_time": "2024-08-29T17:06:34.670854Z",
     "start_time": "2024-08-29T17:06:34.615502Z"
    }
   },
   "cell_type": "code",
   "source": [
    "X=data.drop(\"Salary\", axis=1)\n",
    "print(X.shape)\n",
    "\n",
    "y=np.log(data.Salary)\n",
    "print(y.shape)\n",
    "\n",
    "X_train, X_test, y_train, y_test=(train_test_split(X,y,random_state=127))"
   ],
   "id": "106b7e6194d3dfd3",
   "outputs": [
    {
     "name": "stdout",
     "output_type": "stream",
     "text": [
      "(263, 16)\n",
      "(263,)\n"
     ]
    }
   ],
   "execution_count": 16
  },
  {
   "metadata": {
    "ExecuteTime": {
     "end_time": "2024-08-29T17:07:31.147404Z",
     "start_time": "2024-08-29T17:07:31.114820Z"
    }
   },
   "cell_type": "code",
   "source": [
    "scaler= StandardScaler()\n",
    "X_train_scaled = scaler.fit_transform(X_train)\n",
    "X_test_scaled = scaler.transform(X_test)"
   ],
   "id": "3ac4508ff96dbaee",
   "outputs": [],
   "execution_count": 17
  },
  {
   "metadata": {
    "ExecuteTime": {
     "end_time": "2024-08-29T17:18:34.502810Z",
     "start_time": "2024-08-29T17:18:34.497305Z"
    }
   },
   "cell_type": "code",
   "source": "base_regressor = LinearRegression()",
   "id": "23de436ac598cf3b",
   "outputs": [],
   "execution_count": 25
  },
  {
   "metadata": {
    "ExecuteTime": {
     "end_time": "2024-08-29T17:18:35.534729Z",
     "start_time": "2024-08-29T17:18:35.511054Z"
    }
   },
   "cell_type": "code",
   "source": [
    "fit_base = base_regressor.fit(X_train_scaled, y_train)\n",
    "y_pred = fit_base.predict(X_test_scaled)\n",
    "mse = mean_squared_error(y_test, y_pred)\n",
    "print(mse) "
   ],
   "id": "b9297d4c4c722551",
   "outputs": [
    {
     "name": "stdout",
     "output_type": "stream",
     "text": [
      "0.4143578671210904\n"
     ]
    }
   ],
   "execution_count": 26
  },
  {
   "metadata": {
    "ExecuteTime": {
     "end_time": "2024-08-29T17:36:01.988795Z",
     "start_time": "2024-08-29T17:36:01.977894Z"
    }
   },
   "cell_type": "code",
   "source": "bag_linreg = BaggingRegressor(base_estimator=base_regressor, n_estimators=1000, max_samples=0.3, bootstrap=True, max_features=2, bootstrap_features=False, n_jobs=-1, random_state=127)",
   "id": "74b6f07a82071b9c",
   "outputs": [],
   "execution_count": 42
  },
  {
   "metadata": {
    "ExecuteTime": {
     "end_time": "2024-08-29T17:36:06.751606Z",
     "start_time": "2024-08-29T17:36:04.576744Z"
    }
   },
   "cell_type": "code",
   "source": "bag_linreg.fit(X_train_scaled, y_train)",
   "id": "60c2f87c7bb61981",
   "outputs": [
    {
     "data": {
      "text/plain": [
       "BaggingRegressor(base_estimator=LinearRegression(), max_features=2,\n",
       "                 max_samples=0.3, n_estimators=1000, n_jobs=-1,\n",
       "                 random_state=127)"
      ]
     },
     "execution_count": 43,
     "metadata": {},
     "output_type": "execute_result"
    }
   ],
   "execution_count": 43
  },
  {
   "metadata": {
    "ExecuteTime": {
     "end_time": "2024-08-29T17:38:00.734339Z",
     "start_time": "2024-08-29T17:38:00.534541Z"
    }
   },
   "cell_type": "code",
   "source": [
    "prediction = bag_linreg.predict(X_test_scaled)\n",
    "performance = mean_squared_error(y_test, prediction)\n",
    "performance"
   ],
   "id": "262ef95924900409",
   "outputs": [
    {
     "data": {
      "text/plain": [
       "0.36374989347884173"
      ]
     },
     "execution_count": 44,
     "metadata": {},
     "output_type": "execute_result"
    }
   ],
   "execution_count": 44
  },
  {
   "metadata": {
    "ExecuteTime": {
     "end_time": "2024-08-29T18:17:46.972397Z",
     "start_time": "2024-08-29T18:17:46.929299Z"
    }
   },
   "cell_type": "code",
   "source": "from  sklearn.ensemble import RandomForestRegressor",
   "id": "86f61c7164581e29",
   "outputs": [],
   "execution_count": 45
  },
  {
   "metadata": {
    "ExecuteTime": {
     "end_time": "2024-08-29T18:20:03.706351Z",
     "start_time": "2024-08-29T18:20:03.689046Z"
    }
   },
   "cell_type": "code",
   "source": "random_forest = RandomForestRegressor(n_estimators=1000, criterion=\"squared_error\", max_depth=4, bootstrap=True, n_jobs=-1, random_state=127,max_samples=0.3  )",
   "id": "4c501c88e6e8e11a",
   "outputs": [],
   "execution_count": 46
  },
  {
   "metadata": {
    "ExecuteTime": {
     "end_time": "2024-08-29T18:20:33.012161Z",
     "start_time": "2024-08-29T18:20:32.104718Z"
    }
   },
   "cell_type": "code",
   "source": "random_forest.fit(X_train_scaled, y_train)",
   "id": "d178ac13f98af246",
   "outputs": [
    {
     "data": {
      "text/plain": [
       "RandomForestRegressor(max_depth=4, max_samples=0.3, n_estimators=1000,\n",
       "                      n_jobs=-1, random_state=127)"
      ]
     },
     "execution_count": 47,
     "metadata": {},
     "output_type": "execute_result"
    }
   ],
   "execution_count": 47
  },
  {
   "metadata": {
    "ExecuteTime": {
     "end_time": "2024-08-29T18:21:39.796870Z",
     "start_time": "2024-08-29T18:21:39.666154Z"
    }
   },
   "cell_type": "code",
   "source": [
    "prediction= random_forest.predict(X_test_scaled)\n",
    "performance= mean_squared_error(y_test,prediction)\n",
    "performance"
   ],
   "id": "ca710287b21e9b02",
   "outputs": [
    {
     "data": {
      "text/plain": [
       "0.20548511274651735"
      ]
     },
     "execution_count": 49,
     "metadata": {},
     "output_type": "execute_result"
    }
   ],
   "execution_count": 49
  },
  {
   "metadata": {
    "ExecuteTime": {
     "end_time": "2024-08-29T18:22:28.801231Z",
     "start_time": "2024-08-29T18:22:28.794942Z"
    }
   },
   "cell_type": "code",
   "source": "from sklearn.ensemble import ExtraTreesRegressor",
   "id": "841af974155cf1e6",
   "outputs": [],
   "execution_count": 50
  },
  {
   "metadata": {
    "ExecuteTime": {
     "end_time": "2024-08-29T18:23:40.090277Z",
     "start_time": "2024-08-29T18:23:40.072484Z"
    }
   },
   "cell_type": "code",
   "source": "extra_tree = ExtraTreesRegressor(n_estimators=1000, criterion=\"squared_error\", max_depth=5, bootstrap=True, n_jobs=-1, random_state=171, max_samples=0.3)",
   "id": "5b374114e7576e92",
   "outputs": [],
   "execution_count": 51
  },
  {
   "metadata": {
    "ExecuteTime": {
     "end_time": "2024-08-29T18:24:02.308139Z",
     "start_time": "2024-08-29T18:24:01.448958Z"
    }
   },
   "cell_type": "code",
   "source": "extra_tree.fit(X_train_scaled, y_train)",
   "id": "d4938fbadae2cb6b",
   "outputs": [
    {
     "data": {
      "text/plain": [
       "ExtraTreesRegressor(bootstrap=True, max_depth=5, max_samples=0.3,\n",
       "                    n_estimators=1000, n_jobs=-1, random_state=171)"
      ]
     },
     "execution_count": 52,
     "metadata": {},
     "output_type": "execute_result"
    }
   ],
   "execution_count": 52
  },
  {
   "metadata": {
    "ExecuteTime": {
     "end_time": "2024-08-29T18:24:31.886433Z",
     "start_time": "2024-08-29T18:24:31.767030Z"
    }
   },
   "cell_type": "code",
   "source": [
    "prediction= extra_tree.predict(X_test_scaled)\n",
    "performance= mean_squared_error(y_test,prediction)\n",
    "performance"
   ],
   "id": "4588ea3191cf24ca",
   "outputs": [
    {
     "data": {
      "text/plain": [
       "0.20699218407167788"
      ]
     },
     "execution_count": 53,
     "metadata": {},
     "output_type": "execute_result"
    }
   ],
   "execution_count": 53
  },
  {
   "metadata": {
    "ExecuteTime": {
     "end_time": "2024-08-29T18:30:52.204042Z",
     "start_time": "2024-08-29T18:30:52.192392Z"
    }
   },
   "cell_type": "code",
   "source": "base_regressor = LinearRegression()",
   "id": "5269de5ff886b34b",
   "outputs": [],
   "execution_count": 54
  },
  {
   "metadata": {
    "ExecuteTime": {
     "end_time": "2024-08-29T18:33:04.107964Z",
     "start_time": "2024-08-29T18:33:04.089230Z"
    }
   },
   "cell_type": "code",
   "source": "boost_linreg = AdaBoostRegressor(base_estimator=base_regressor, n_estimators=200, learning_rate=0.8, loss='linear', random_state=127)",
   "id": "bda9b52a8161f14b",
   "outputs": [],
   "execution_count": 55
  },
  {
   "metadata": {
    "ExecuteTime": {
     "end_time": "2024-08-29T18:33:37.486125Z",
     "start_time": "2024-08-29T18:33:37.441158Z"
    }
   },
   "cell_type": "code",
   "source": "boost_linreg.fit(X_train_scaled,y_train)",
   "id": "8762ed9f6f9d6a98",
   "outputs": [
    {
     "data": {
      "text/plain": [
       "AdaBoostRegressor(base_estimator=LinearRegression(), learning_rate=0.8,\n",
       "                  n_estimators=200, random_state=127)"
      ]
     },
     "execution_count": 57,
     "metadata": {},
     "output_type": "execute_result"
    }
   ],
   "execution_count": 57
  },
  {
   "metadata": {
    "ExecuteTime": {
     "end_time": "2024-08-29T18:34:00.671920Z",
     "start_time": "2024-08-29T18:34:00.650204Z"
    }
   },
   "cell_type": "code",
   "source": [
    "prediction= boost_linreg.predict(X_test_scaled)\n",
    "performance= mean_squared_error(y_test,prediction)\n",
    "performance"
   ],
   "id": "8ac35ecbad63949c",
   "outputs": [
    {
     "data": {
      "text/plain": [
       "0.43887741154489757"
      ]
     },
     "execution_count": 58,
     "metadata": {},
     "output_type": "execute_result"
    }
   ],
   "execution_count": 58
  },
  {
   "metadata": {
    "ExecuteTime": {
     "end_time": "2024-08-29T18:42:50.596928Z",
     "start_time": "2024-08-29T18:42:50.561485Z"
    }
   },
   "cell_type": "code",
   "source": "gb_regressor= GradientBoostingRegressor(loss=\"squared_error\", learning_rate=0.5, n_estimators=200, subsample=1, criterion=\"squared_error\", max_depth=4, random_state=127)",
   "id": "f07d467ccb4a8d98",
   "outputs": [],
   "execution_count": 59
  },
  {
   "metadata": {
    "ExecuteTime": {
     "end_time": "2024-08-29T18:43:06.152332Z",
     "start_time": "2024-08-29T18:43:05.984629Z"
    }
   },
   "cell_type": "code",
   "source": "gb_regressor.fit(X_train_scaled,y_train)",
   "id": "fdf870a33d6afc2c",
   "outputs": [
    {
     "data": {
      "text/plain": [
       "GradientBoostingRegressor(criterion='squared_error', learning_rate=0.5,\n",
       "                          max_depth=4, n_estimators=200, random_state=127,\n",
       "                          subsample=1)"
      ]
     },
     "execution_count": 60,
     "metadata": {},
     "output_type": "execute_result"
    }
   ],
   "execution_count": 60
  },
  {
   "metadata": {
    "ExecuteTime": {
     "end_time": "2024-08-29T18:43:17.567708Z",
     "start_time": "2024-08-29T18:43:17.554813Z"
    }
   },
   "cell_type": "code",
   "source": [
    "prediction= gb_regressor.predict(X_test_scaled)\n",
    "performance= mean_squared_error(y_test,prediction)\n",
    "performance"
   ],
   "id": "215663e616aee5ed",
   "outputs": [
    {
     "data": {
      "text/plain": [
       "0.26248685500786834"
      ]
     },
     "execution_count": 61,
     "metadata": {},
     "output_type": "execute_result"
    }
   ],
   "execution_count": 61
  },
  {
   "metadata": {
    "ExecuteTime": {
     "end_time": "2024-08-29T18:54:40.000450Z",
     "start_time": "2024-08-29T18:54:38.267133Z"
    }
   },
   "cell_type": "code",
   "source": "from xgboost import XGBRegressor",
   "id": "495825dabd6d7436",
   "outputs": [],
   "execution_count": 62
  },
  {
   "metadata": {
    "ExecuteTime": {
     "end_time": "2024-08-29T18:54:51.927813Z",
     "start_time": "2024-08-29T18:54:51.921827Z"
    }
   },
   "cell_type": "code",
   "source": "model = XGBRegressor()",
   "id": "14f070c33d1bded7",
   "outputs": [],
   "execution_count": 63
  },
  {
   "metadata": {
    "ExecuteTime": {
     "end_time": "2024-08-29T18:55:16.145400Z",
     "start_time": "2024-08-29T18:55:15.898576Z"
    }
   },
   "cell_type": "code",
   "source": "model.fit(X_train, y_train)",
   "id": "ae00ca64fdd7069d",
   "outputs": [
    {
     "data": {
      "text/plain": [
       "XGBRegressor(base_score=0.5, booster='gbtree', callbacks=None,\n",
       "             colsample_bylevel=1, colsample_bynode=1, colsample_bytree=1,\n",
       "             early_stopping_rounds=None, enable_categorical=False,\n",
       "             eval_metric=None, gamma=0, gpu_id=-1, grow_policy='depthwise',\n",
       "             importance_type=None, interaction_constraints='',\n",
       "             learning_rate=0.300000012, max_bin=256, max_cat_to_onehot=4,\n",
       "             max_delta_step=0, max_depth=6, max_leaves=0, min_child_weight=1,\n",
       "             missing=nan, monotone_constraints='()', n_estimators=100, n_jobs=0,\n",
       "             num_parallel_tree=1, predictor='auto', random_state=0, reg_alpha=0,\n",
       "             reg_lambda=1, ...)"
      ]
     },
     "execution_count": 64,
     "metadata": {},
     "output_type": "execute_result"
    }
   ],
   "execution_count": 64
  },
  {
   "metadata": {
    "ExecuteTime": {
     "end_time": "2024-08-29T18:55:49.057033Z",
     "start_time": "2024-08-29T18:55:49.016990Z"
    }
   },
   "cell_type": "code",
   "source": "predis = model.predict(X_test)",
   "id": "b4041475032b39c5",
   "outputs": [],
   "execution_count": 65
  },
  {
   "metadata": {
    "ExecuteTime": {
     "end_time": "2024-08-29T18:59:27.785855Z",
     "start_time": "2024-08-29T18:59:27.744128Z"
    }
   },
   "cell_type": "code",
   "source": [
    "from sklearn.metrics import r2_score\n",
    "\n",
    "reg_score = r2_score(y_test, predis)\n",
    "print(reg_score)\n",
    "\n",
    "mse = mean_squared_error(y_test, predis)\n",
    "print(mse)\n",
    "\n",
    "rmse = mse**0.5\n",
    "print(rmse*100)"
   ],
   "id": "35d0a0861bf9e546",
   "outputs": [
    {
     "name": "stdout",
     "output_type": "stream",
     "text": [
      "0.6601895389001385\n",
      "0.25653318536780434\n",
      "50.64910516167135\n"
     ]
    }
   ],
   "execution_count": 67
  },
  {
   "metadata": {
    "ExecuteTime": {
     "end_time": "2024-08-29T19:11:53.819107Z",
     "start_time": "2024-08-29T19:11:53.660563Z"
    }
   },
   "cell_type": "code",
   "source": [
    "model = XGBRegressor(n_estimators=30)\n",
    "model.fit(X_train, y_train)\n",
    "predis = model.predict(X_test)\n",
    "reg_score = r2_score(y_test, predis)\n",
    "print(reg_score)\n",
    "mse = mean_squared_error(y_test, predis)\n",
    "print(mse)\n",
    "rmse = mse**0.5\n",
    "print(rmse*100)"
   ],
   "id": "c27c430cf321b351",
   "outputs": [
    {
     "name": "stdout",
     "output_type": "stream",
     "text": [
      "0.662655180854516\n",
      "0.25467179775046705\n",
      "50.46501736356256\n"
     ]
    }
   ],
   "execution_count": 71
  },
  {
   "metadata": {},
   "cell_type": "code",
   "outputs": [],
   "execution_count": null,
   "source": "",
   "id": "2c91b74eef76ef5e"
  }
 ],
 "metadata": {
  "kernelspec": {
   "display_name": "Python 3",
   "language": "python",
   "name": "python3"
  },
  "language_info": {
   "codemirror_mode": {
    "name": "ipython",
    "version": 2
   },
   "file_extension": ".py",
   "mimetype": "text/x-python",
   "name": "python",
   "nbconvert_exporter": "python",
   "pygments_lexer": "ipython2",
   "version": "2.7.6"
  }
 },
 "nbformat": 4,
 "nbformat_minor": 5
}
